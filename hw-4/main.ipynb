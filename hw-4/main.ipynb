{
 "cells": [
  {
   "cell_type": "code",
   "execution_count": 2,
   "outputs": [],
   "source": [
    "import numpy as np\n",
    "import torch\n",
    "from torch import nn\n",
    "from torch.nn import functional as F"
   ],
   "metadata": {
    "collapsed": false
   }
  },
  {
   "cell_type": "code",
   "execution_count": 5,
   "outputs": [],
   "source": [
    "class ConvNet(nn.Module):\n",
    "    def __init__(self):\n",
    "        super().__init__()\n",
    "\n",
    "        self.conv1 = nn.Conv2d(in_channels=3, out_channels=3, kernel_size=(5,5))  # 28x28\n",
    "        self.pool1 = nn.MaxPool2d(kernel_size=(2,2))  # 14x14\n",
    "        self.conv2 = nn.Conv2d(in_channels=3, out_channels=5, kernel_size=(3,3))  # 12x12\n",
    "        self.pool2 = nn.MaxPool2d(kernel_size=(2,2))  # 6x6\n",
    "\n",
    "        self.flatten = nn.Flatten()\n",
    "\n",
    "        self.fc1 = nn.Linear(5 * 6 * 6, 100)\n",
    "        self.fc2 = nn.Linear(100, 10)\n",
    "\n",
    "    def forward(self, x):\n",
    "        x = F.relu(self.conv1(x))\n",
    "        x = self.pool1(x)\n",
    "        x = F.relu(self.conv2(x))\n",
    "        x = self.pool2(x)\n",
    "\n",
    "        x = self.flatten(x)\n",
    "\n",
    "        x = F.relu(self.fc1(x))\n",
    "        x = self.fc2(x)\n",
    "\n",
    "        return x\n",
    "\n",
    "\n",
    "def create_model():\n",
    "    return ConvNet()"
   ],
   "metadata": {
    "collapsed": false
   }
  },
  {
   "cell_type": "code",
   "execution_count": 6,
   "outputs": [],
   "source": [
    "# Эта ячейка не должна выдавать ошибку.\n",
    "# Если при исполнении ячейки возникает ошибка, то в вашей реализации нейросети есть баги.\n",
    "img = torch.Tensor(np.random.random((32, 3, 32, 32)))\n",
    "model = ConvNet()\n",
    "out = model(img)"
   ],
   "metadata": {
    "collapsed": false
   }
  },
  {
   "cell_type": "code",
   "execution_count": 7,
   "outputs": [],
   "source": [
    "# conv1\n",
    "assert model.conv1.kernel_size == (5, 5), \"неверный размер ядра у conv1\"\n",
    "assert model.conv1.in_channels == 3, \"неверный размер in_channels у conv1\"\n",
    "assert model.conv1.out_channels == 3, \"неверный размер out_channels у conv1\"\n",
    "\n",
    "# pool1\n",
    "assert model.pool1.kernel_size == (2, 2), \"неверный размер ядра у pool1\"\n",
    "\n",
    "# conv2\n",
    "assert model.conv2.kernel_size == (3, 3), \"неверный размер ядра у conv2\"\n",
    "assert model.conv2.in_channels == 3, \"неверный размер in_channels у conv2\"\n",
    "assert model.conv2.out_channels == 5, \"неверный размер out_channels у conv2\"\n",
    "\n",
    "# pool2\n",
    "assert model.pool1.kernel_size == (2, 2), \"неверный размер ядра у pool2\"\n",
    "\n",
    "# fc1\n",
    "assert model.fc1.out_features == 100, \"неверный размер out_features у fc1\"\n",
    "# fc2\n",
    "assert model.fc2.out_features == 10, \"неверный размер out_features у fc2\""
   ],
   "metadata": {
    "collapsed": false
   }
  },
  {
   "cell_type": "code",
   "execution_count": 5,
   "outputs": [],
   "source": [
    "class ConvNet(nn.Module):\n",
    "    def __init__(self):\n",
    "        super().__init__()\n",
    "\n",
    "        self.conv1 = nn.Conv2d(in_channels=3, out_channels=5, kernel_size=(3,3))  # 30x30\n",
    "        self.conv1_bn = nn.BatchNorm2d(5)\n",
    "\n",
    "        self.conv2 = nn.Conv2d(in_channels=5, out_channels=4, kernel_size=(3,3))  # 28x28\n",
    "        self.conv2_bn = nn.BatchNorm2d(4)\n",
    "\n",
    "        self.pool1 = nn.MaxPool2d(kernel_size=(2,2))  # 14x14\n",
    "\n",
    "        self.conv3 = nn.Conv2d(in_channels=4, out_channels=3, kernel_size=(3,3))  # 12x12\n",
    "        self.conv3_bn = nn.BatchNorm2d(3)\n",
    "\n",
    "        self.flatten = nn.Flatten()\n",
    "\n",
    "        self.fc1 = nn.Linear(3 * 12 * 12, 256)\n",
    "        self.fc1_bn = nn.BatchNorm1d(256)\n",
    "\n",
    "        self.fc2 = nn.Linear(256, 128)\n",
    "        self.fc2_bn = nn.BatchNorm1d(128)\n",
    "\n",
    "        self.fc3 = nn.Linear(128, 10)\n",
    "\n",
    "    def forward(self, x):\n",
    "        x = self.conv1(x)\n",
    "        x = F.relu(self.conv1_bn(x))\n",
    "\n",
    "        x = self.conv2(x)\n",
    "        x = F.relu(self.conv2_bn(x))\n",
    "\n",
    "        x = self.pool1(x)\n",
    "\n",
    "        x = self.conv3(x)\n",
    "        x = F.relu(self.conv3_bn(x))\n",
    "\n",
    "        x = self.flatten(x)\n",
    "\n",
    "        x = self.fc1(x)\n",
    "        x = F.relu(self.fc1_bn(x))\n",
    "\n",
    "        x = self.fc2(x)\n",
    "        x = F.relu(self.fc2_bn(x))\n",
    "\n",
    "        x = self.fc3(x)\n",
    "\n",
    "        return x"
   ],
   "metadata": {
    "collapsed": false
   }
  }
 ],
 "metadata": {
  "kernelspec": {
   "display_name": "Python 3",
   "language": "python",
   "name": "python3"
  },
  "language_info": {
   "codemirror_mode": {
    "name": "ipython",
    "version": 2
   },
   "file_extension": ".py",
   "mimetype": "text/x-python",
   "name": "python",
   "nbconvert_exporter": "python",
   "pygments_lexer": "ipython2",
   "version": "2.7.6"
  }
 },
 "nbformat": 4,
 "nbformat_minor": 0
}
