{
 "cells": [
  {
   "cell_type": "code",
   "execution_count": null,
   "outputs": [],
   "source": [
    "!pip3 install torch torchvision torchaudio"
   ],
   "metadata": {
    "collapsed": false
   }
  },
  {
   "cell_type": "markdown",
   "source": [
    "---"
   ],
   "metadata": {
    "collapsed": false
   }
  },
  {
   "cell_type": "markdown",
   "source": [
    "## Домашнее задание №1:"
   ],
   "metadata": {
    "collapsed": false
   }
  },
  {
   "cell_type": "code",
   "execution_count": 15,
   "outputs": [],
   "source": [
    "import numpy as np\n",
    "import json\n",
    "import re"
   ],
   "metadata": {
    "collapsed": false
   }
  },
  {
   "cell_type": "markdown",
   "source": [
    "#### Задача №1:"
   ],
   "metadata": {
    "collapsed": false
   }
  },
  {
   "cell_type": "code",
   "execution_count": 16,
   "outputs": [],
   "source": [
    "# Import torch and save its version into the corresponding variable\n",
    "import torch\n",
    "\n",
    "\n",
    "version = torch.__version__\n",
    "# __________start of block__________\n",
    "assert version is not None, 'Please, save torch version'\n",
    "major_version, minor_version = re.findall(\"\\d+\\.\\d+\", version)[0].split('.')\n",
    "assert float(major_version) >= 2 or (float(major_version) >= 1 and float(minor_version) >= 7), 'Please, update PyTorch'\n",
    "# __________end of block__________"
   ],
   "metadata": {
    "collapsed": false
   }
  },
  {
   "cell_type": "code",
   "execution_count": 17,
   "outputs": [
    {
     "name": "stdout",
     "output_type": "stream",
     "text": [
      "['Linear(in_features=784, out_features=256, bias=True)', 'ReLU()', 'Linear(in_features=256, out_features=16, bias=True)', 'ReLU()', 'Linear(in_features=16, out_features=10, bias=True)']\n"
     ]
    }
   ],
   "source": [
    "import torch.nn as nn\n",
    "import torch.nn.functional as F\n",
    "\n",
    "\n",
    "def create_model():\n",
    "    # 784->256->16->10\n",
    "    linear_relu_stack = nn.Sequential(\n",
    "        nn.Linear(784, 256, bias=True),\n",
    "        nn.ReLU(),\n",
    "        nn.Linear(256, 16, bias=True),\n",
    "        nn.ReLU(),\n",
    "        nn.Linear(16, 10, bias=True)\n",
    "    )\n",
    "\n",
    "    return linear_relu_stack\n",
    "\n",
    "\n",
    "class Model(nn.Module):\n",
    "\n",
    "    def __init__(self):\n",
    "        super(Model, self).__init__()\n",
    "\n",
    "        self.linear_1 = nn.Linear(784, 256, bias=True)\n",
    "        self.linear_2 = nn.Linear(256, 16, bias=True)\n",
    "        self.linear_3 = nn.Linear(16, 10, bias=True)\n",
    "\n",
    "        #self.activation = nn.ReLU()\n",
    "\n",
    "    def forward(self, x):\n",
    "        #x = self.linear_1(x)\n",
    "        #x = self.activation(x)\n",
    "        #x = self.linear_2(x)\n",
    "        #x = self.activation(x)\n",
    "        #x = self.linear_3(x)\n",
    "        #x = self.activation(x)\n",
    "\n",
    "        x = F.relu(self.linear_1(x))\n",
    "        x = F.relu(self.linear_2(x))\n",
    "        x = F.relu(self.linear_3(x))\n",
    "\n",
    "        return x\n",
    "\n",
    "\n",
    "model = create_model()\n",
    "\n",
    "structure = [str(x) for x in list(model)]\n",
    "print(structure)\n",
    "\n",
    "# __________start of block__________\n",
    "for param in model.parameters():\n",
    "    nn.init.constant_(param, 1.)\n",
    "\n",
    "assert torch.allclose(model(torch.ones((1, 784))), torch.ones((1, 10)) * 3215377.), 'Check the network structure'\n",
    "# __________end of block__________"
   ],
   "metadata": {
    "collapsed": false
   }
  },
  {
   "cell_type": "markdown",
   "source": [
    "#### Задача №2:"
   ],
   "metadata": {
    "collapsed": false
   }
  },
  {
   "cell_type": "code",
   "execution_count": 18,
   "outputs": [
    {
     "name": "stdout",
     "output_type": "stream",
     "text": [
      "Seems fine!\n"
     ]
    }
   ],
   "source": [
    "def count_parameters(model):\n",
    "    return sum(param.numel() for param in model.parameters())\n",
    "\n",
    "\n",
    "# __________start of block__________\n",
    "small_model = nn.Linear(128, 256)\n",
    "assert count_parameters(small_model) == 128 * 256 + 256, 'Check the function'\n",
    "\n",
    "medium_model = nn.Sequential(*[nn.Linear(128, 32, bias=False), nn.ReLU(), nn.Linear(32, 10, bias=False)])\n",
    "assert count_parameters(medium_model) == 128 * 32 + 32 * 10, 'Check the function'\n",
    "print(\"Seems fine!\")\n",
    "# __________end of block__________"
   ],
   "metadata": {
    "collapsed": false
   }
  },
  {
   "cell_type": "code",
   "execution_count": null,
   "outputs": [],
   "source": [],
   "metadata": {
    "collapsed": false
   }
  }
 ],
 "metadata": {
  "kernelspec": {
   "display_name": "Python 3",
   "language": "python",
   "name": "python3"
  },
  "language_info": {
   "codemirror_mode": {
    "name": "ipython",
    "version": 2
   },
   "file_extension": ".py",
   "mimetype": "text/x-python",
   "name": "python",
   "nbconvert_exporter": "python",
   "pygments_lexer": "ipython2",
   "version": "2.7.6"
  }
 },
 "nbformat": 4,
 "nbformat_minor": 0
}
