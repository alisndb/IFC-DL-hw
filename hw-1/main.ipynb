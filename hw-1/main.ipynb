{
 "cells": [
  {
   "cell_type": "code",
   "execution_count": 1,
   "outputs": [
    {
     "name": "stdout",
     "output_type": "stream",
     "text": [
      "Collecting torch\r\n",
      "  Downloading torch-1.12.1-cp310-none-macosx_10_9_x86_64.whl (133.8 MB)\r\n",
      "     |████████████████████████████████| 133.8 MB 2.3 MB/s            \r\n",
      "\u001B[?25hCollecting torchvision\r\n",
      "  Downloading torchvision-0.13.1-cp310-cp310-macosx_10_9_x86_64.whl (1.3 MB)\r\n",
      "     |████████████████████████████████| 1.3 MB 5.4 MB/s            \r\n",
      "\u001B[?25hCollecting torchaudio\r\n",
      "  Downloading torchaudio-0.12.1-cp310-cp310-macosx_10_9_x86_64.whl (3.1 MB)\r\n",
      "     |████████████████████████████████| 3.1 MB 5.0 MB/s            \r\n",
      "\u001B[?25hCollecting typing-extensions\r\n",
      "  Downloading typing_extensions-4.4.0-py3-none-any.whl (26 kB)\r\n",
      "Requirement already satisfied: requests in /Users/ali/Программирование/МФК-DL/IFC-DL-hw/venv/lib/python3.10/site-packages (from torchvision) (2.28.1)\r\n",
      "Collecting pillow!=8.3.*,>=5.3.0\r\n",
      "  Using cached Pillow-9.2.0-cp310-cp310-macosx_10_10_x86_64.whl (3.1 MB)\r\n",
      "Collecting numpy\r\n",
      "  Downloading numpy-1.23.4-cp310-cp310-macosx_10_9_x86_64.whl (18.1 MB)\r\n",
      "     |████████████████████████████████| 18.1 MB 6.4 MB/s            \r\n",
      "\u001B[?25hRequirement already satisfied: charset-normalizer<3,>=2 in /Users/ali/Программирование/МФК-DL/IFC-DL-hw/venv/lib/python3.10/site-packages (from requests->torchvision) (2.1.1)\r\n",
      "Requirement already satisfied: urllib3<1.27,>=1.21.1 in /Users/ali/Программирование/МФК-DL/IFC-DL-hw/venv/lib/python3.10/site-packages (from requests->torchvision) (1.26.12)\r\n",
      "Requirement already satisfied: idna<4,>=2.5 in /Users/ali/Программирование/МФК-DL/IFC-DL-hw/venv/lib/python3.10/site-packages (from requests->torchvision) (3.4)\r\n",
      "Requirement already satisfied: certifi>=2017.4.17 in /Users/ali/Программирование/МФК-DL/IFC-DL-hw/venv/lib/python3.10/site-packages (from requests->torchvision) (2022.9.24)\r\n",
      "Installing collected packages: typing-extensions, torch, pillow, numpy, torchvision, torchaudio\r\n",
      "Successfully installed numpy-1.23.4 pillow-9.2.0 torch-1.12.1 torchaudio-0.12.1 torchvision-0.13.1 typing-extensions-4.4.0\r\n",
      "\u001B[33mWARNING: You are using pip version 21.3.1; however, version 22.3 is available.\r\n",
      "You should consider upgrading via the '/Users/ali/Программирование/МФК-DL/IFC-DL-hw/venv/bin/python -m pip install --upgrade pip' command.\u001B[0m\r\n"
     ]
    }
   ],
   "source": [
    "!pip3 install torch torchvision torchaudio"
   ],
   "metadata": {
    "collapsed": false
   }
  },
  {
   "cell_type": "markdown",
   "source": [
    "---"
   ],
   "metadata": {
    "collapsed": false
   }
  },
  {
   "cell_type": "markdown",
   "source": [
    "## Домашнее задание №1:"
   ],
   "metadata": {
    "collapsed": false
   }
  },
  {
   "cell_type": "code",
   "execution_count": 30,
   "outputs": [],
   "source": [
    "import numpy as np\n",
    "import json\n",
    "import re"
   ],
   "metadata": {
    "collapsed": false
   }
  },
  {
   "cell_type": "markdown",
   "source": [
    "#### Задача №1:"
   ],
   "metadata": {
    "collapsed": false
   }
  },
  {
   "cell_type": "code",
   "execution_count": 31,
   "outputs": [],
   "source": [
    "# Import torch and save its version into the corresponding variable\n",
    "import torch\n",
    "\n",
    "\n",
    "version = torch.__version__\n",
    "# __________start of block__________\n",
    "assert version is not None, 'Please, save torch version'\n",
    "major_version, minor_version = re.findall(\"\\d+\\.\\d+\", version)[0].split('.')\n",
    "assert float(major_version) >= 2 or (float(major_version) >= 1 and float(minor_version) >= 7), 'Please, update PyTorch'\n",
    "# __________end of block__________"
   ],
   "metadata": {
    "collapsed": false
   }
  },
  {
   "cell_type": "code",
   "execution_count": 32,
   "outputs": [],
   "source": [
    "import torch.nn as nn\n",
    "import torch.nn.functional as F\n",
    "\n",
    "\n",
    "def create_model():\n",
    "    # Linear layer mapping from 784 features, so it should be 784->256->16->10\n",
    "    linear_relu_stack = nn.Sequential(\n",
    "        nn.Linear(784, 256, bias=True),\n",
    "        nn.ReLU(),\n",
    "        nn.Linear(256, 16, bias=True),\n",
    "        nn.ReLU(),\n",
    "        nn.Linear(16, 10, bias=True),\n",
    "        nn.ReLU()\n",
    "    )\n",
    "\n",
    "    return linear_relu_stack\n",
    "\n",
    "\n",
    "model = create_model()\n",
    "# __________start of block__________\n",
    "for param in model.parameters():\n",
    "    nn.init.constant_(param, 1.)\n",
    "\n",
    "assert torch.allclose(model(torch.ones((1, 784))), torch.ones((1, 10)) * 3215377.), 'Check the network structure'\n",
    "# __________end of block__________"
   ],
   "metadata": {
    "collapsed": false
   }
  },
  {
   "cell_type": "markdown",
   "source": [
    "#### Задача №2:"
   ],
   "metadata": {
    "collapsed": false
   }
  },
  {
   "cell_type": "code",
   "execution_count": 33,
   "outputs": [
    {
     "name": "stdout",
     "output_type": "stream",
     "text": [
      "Seems fine!\n"
     ]
    }
   ],
   "source": [
    "def count_parameters(model):\n",
    "    return sum(param.numel() for param in model.parameters())\n",
    "\n",
    "\n",
    "# __________start of block__________\n",
    "small_model = nn.Linear(128, 256)\n",
    "assert count_parameters(small_model) == 128 * 256 + 256, 'Check the function'\n",
    "\n",
    "medium_model = nn.Sequential(*[nn.Linear(128, 32, bias=False), nn.ReLU(), nn.Linear(32, 10, bias=False)])\n",
    "assert count_parameters(medium_model) == 128 * 32 + 32 * 10, 'Check the function'\n",
    "print(\"Seems fine!\")\n",
    "# __________end of block__________"
   ],
   "metadata": {
    "collapsed": false
   }
  },
  {
   "cell_type": "code",
   "execution_count": null,
   "outputs": [],
   "source": [],
   "metadata": {
    "collapsed": false
   }
  }
 ],
 "metadata": {
  "kernelspec": {
   "display_name": "Python 3",
   "language": "python",
   "name": "python3"
  },
  "language_info": {
   "codemirror_mode": {
    "name": "ipython",
    "version": 2
   },
   "file_extension": ".py",
   "mimetype": "text/x-python",
   "name": "python",
   "nbconvert_exporter": "python",
   "pygments_lexer": "ipython2",
   "version": "2.7.6"
  }
 },
 "nbformat": 4,
 "nbformat_minor": 0
}
